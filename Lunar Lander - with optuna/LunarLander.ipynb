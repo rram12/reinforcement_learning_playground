{
 "cells": [
  {
   "cell_type": "code",
   "execution_count": 3,
   "metadata": {},
   "outputs": [],
   "source": [
    "import gym\n",
    "\n",
    "from stable_baselines3.common.env_util import make_vec_env\n",
    "from stable_baselines3.common.monitor import Monitor\n",
    "from stable_baselines3 import PPO\n",
    "from stable_baselines3.common.evaluation import evaluate_policy\n",
    "from stable_baselines3.common.vec_env import DummyVecEnv\n",
    "\n",
    "import optuna\n",
    "from optuna.samplers import TPESampler\n",
    "\n",
    "import wandb\n",
    "from wandb.integration.sb3 import WandbCallback"
   ]
  },
  {
   "cell_type": "markdown",
   "metadata": {},
   "source": [
    "### Creating Gym envs"
   ]
  },
  {
   "cell_type": "code",
   "execution_count": 2,
   "metadata": {},
   "outputs": [],
   "source": [
    "env = make_vec_env(\"LunarLander-v2\", n_envs=16)"
   ]
  },
  {
   "cell_type": "code",
   "execution_count": 3,
   "metadata": {},
   "outputs": [],
   "source": [
    "eval_env = Monitor(gym.make(\"LunarLander-v2\"))"
   ]
  },
  {
   "cell_type": "markdown",
   "metadata": {},
   "source": [
    "### Hyperparameter Tuning"
   ]
  },
  {
   "cell_type": "code",
   "execution_count": 4,
   "metadata": {},
   "outputs": [],
   "source": [
    "def run_training(params, verbose=0, save_model=False):\n",
    "    model = PPO(\n",
    "        policy=\"MlpPolicy\",\n",
    "        env=env,\n",
    "        n_epochs=params[\"n_epochs\"],\n",
    "        gamma=params[\"gamma\"],\n",
    "        learning_rate=params[\"learning_rate\"],\n",
    "        verbose=verbose\n",
    "    )\n",
    "    model.learn(total_timesteps=params[\"total_timesteps\"])\n",
    "    mean_reward, std_reward = evaluate_policy(model, eval_env, n_eval_episodes=50)\n",
    "    if save_model:\n",
    "        model.save('PPO-LunarLander-v2')\n",
    "    return model, mean_reward-std_reward"
   ]
  },
  {
   "cell_type": "code",
   "execution_count": 5,
   "metadata": {},
   "outputs": [],
   "source": [
    "def objective(trial):\n",
    "    params = {\n",
    "        \"n_epochs\": trial.suggest_int(\"n_epochs\", 1, 10),\n",
    "        \"gamma\": trial.suggest_float(\"gamma\", 0.99, 0.9999),\n",
    "        \"learning_rate\": trial.suggest_float(\"learning_rate\", 1e-5, 1e-1),\n",
    "        \"total_timesteps\": trial.suggest_int(\"total_timesteps\", 5e5, 2e6)\n",
    "    }\n",
    "\n",
    "    config = dict(trial.params)\n",
    "    config['trial.number'] = trial.number\n",
    "    config['policy'] = 'MlpPolicy'\n",
    "    run = wandb.init(\n",
    "        project=\"ppo-lunarlander\",\n",
    "        config=config,\n",
    "        sync_tensorboard=True,\n",
    "        monitor_gym=True,\n",
    "        reinit=True\n",
    "    )\n",
    "\n",
    "    model, reward = run_training(params, verbose=0)\n",
    "    wandb.log({\"reward\": reward})\n",
    "    run.finish(quiet=True)\n",
    "    return reward"
   ]
  },
  {
   "cell_type": "code",
   "execution_count": 6,
   "metadata": {},
   "outputs": [
    {
     "name": "stderr",
     "output_type": "stream",
     "text": [
      "\u001b[32m[I 2022-09-18 12:25:21,307]\u001b[0m A new study created in memory with name: PPO-LunarLander-v2\u001b[0m\n",
      "Failed to detect the name of this notebook, you can set it manually with the WANDB_NOTEBOOK_NAME environment variable to enable code saving.\n",
      "\u001b[34m\u001b[1mwandb\u001b[0m: Currently logged in as: \u001b[33mrram12\u001b[0m. Use \u001b[1m`wandb login --relogin`\u001b[0m to force relogin\n"
     ]
    },
    {
     "data": {
      "text/html": [
       "Tracking run with wandb version 0.13.3"
      ],
      "text/plain": [
       "<IPython.core.display.HTML object>"
      ]
     },
     "metadata": {},
     "output_type": "display_data"
    },
    {
     "data": {
      "text/html": [
       "Run data is saved locally in <code>/home/rram12/R_files/R/ML/RL/HF-DRL/wandb/run-20220918_122534-3qvq1bqq</code>"
      ],
      "text/plain": [
       "<IPython.core.display.HTML object>"
      ]
     },
     "metadata": {},
     "output_type": "display_data"
    },
    {
     "data": {
      "text/html": [
       "Syncing run <strong><a href=\"https://wandb.ai/rram12/ppo-lunarlander/runs/3qvq1bqq\" target=\"_blank\">stilted-gorge-1</a></strong> to <a href=\"https://wandb.ai/rram12/ppo-lunarlander\" target=\"_blank\">Weights & Biases</a> (<a href=\"https://wandb.me/run\" target=\"_blank\">docs</a>)<br/>"
      ],
      "text/plain": [
       "<IPython.core.display.HTML object>"
      ]
     },
     "metadata": {},
     "output_type": "display_data"
    },
    {
     "data": {
      "text/html": [
       "Waiting for W&B process to finish... <strong style=\"color:green\">(success).</strong>"
      ],
      "text/plain": [
       "<IPython.core.display.HTML object>"
      ]
     },
     "metadata": {},
     "output_type": "display_data"
    },
    {
     "data": {
      "application/vnd.jupyter.widget-view+json": {
       "model_id": "a5bc7dc6ca364a9caefbddafbbf45f10",
       "version_major": 2,
       "version_minor": 0
      },
      "text/plain": [
       "VBox(children=(Label(value='0.000 MB of 0.000 MB uploaded (0.000 MB deduped)\\r'), FloatProgress(value=1.0, max…"
      ]
     },
     "metadata": {},
     "output_type": "display_data"
    },
    {
     "data": {
      "text/html": [
       "Synced <strong style=\"color:#cdcd00\">stilted-gorge-1</strong>: <a href=\"https://wandb.ai/rram12/ppo-lunarlander/runs/3qvq1bqq\" target=\"_blank\">https://wandb.ai/rram12/ppo-lunarlander/runs/3qvq1bqq</a><br/>Synced 5 W&B file(s), 0 media file(s), 0 artifact file(s) and 0 other file(s)"
      ],
      "text/plain": [
       "<IPython.core.display.HTML object>"
      ]
     },
     "metadata": {},
     "output_type": "display_data"
    },
    {
     "name": "stderr",
     "output_type": "stream",
     "text": [
      "\u001b[32m[I 2022-09-18 13:09:56,970]\u001b[0m Trial 0 finished with value: -735.820986247044 and parameters: {'n_epochs': 4, 'gamma': 0.9994120716334581, 'learning_rate': 0.0732020742417224, 'total_timesteps': 1397988}. Best is trial 0 with value: -735.820986247044.\u001b[0m\n"
     ]
    },
    {
     "data": {
      "application/vnd.jupyter.widget-view+json": {
       "model_id": "f57f8eafe8b148df81d6db7849912b58",
       "version_major": 2,
       "version_minor": 0
      },
      "text/plain": [
       "VBox(children=(Label(value='Waiting for wandb.init()...\\r'), FloatProgress(value=0.03334027926127116, max=1.0)…"
      ]
     },
     "metadata": {},
     "output_type": "display_data"
    },
    {
     "data": {
      "text/html": [
       "Tracking run with wandb version 0.13.3"
      ],
      "text/plain": [
       "<IPython.core.display.HTML object>"
      ]
     },
     "metadata": {},
     "output_type": "display_data"
    },
    {
     "data": {
      "text/html": [
       "Run data is saved locally in <code>/home/rram12/R_files/R/ML/RL/HF-DRL/wandb/run-20220918_130957-181ohnpn</code>"
      ],
      "text/plain": [
       "<IPython.core.display.HTML object>"
      ]
     },
     "metadata": {},
     "output_type": "display_data"
    },
    {
     "data": {
      "text/html": [
       "Syncing run <strong><a href=\"https://wandb.ai/rram12/ppo-lunarlander/runs/181ohnpn\" target=\"_blank\">solar-water-2</a></strong> to <a href=\"https://wandb.ai/rram12/ppo-lunarlander\" target=\"_blank\">Weights & Biases</a> (<a href=\"https://wandb.me/run\" target=\"_blank\">docs</a>)<br/>"
      ],
      "text/plain": [
       "<IPython.core.display.HTML object>"
      ]
     },
     "metadata": {},
     "output_type": "display_data"
    },
    {
     "data": {
      "text/html": [
       "Waiting for W&B process to finish... <strong style=\"color:green\">(success).</strong>"
      ],
      "text/plain": [
       "<IPython.core.display.HTML object>"
      ]
     },
     "metadata": {},
     "output_type": "display_data"
    },
    {
     "data": {
      "application/vnd.jupyter.widget-view+json": {
       "model_id": "53f4172360cc406685143bdfb4545b91",
       "version_major": 2,
       "version_minor": 0
      },
      "text/plain": [
       "VBox(children=(Label(value='0.000 MB of 0.000 MB uploaded (0.000 MB deduped)\\r'), FloatProgress(value=1.0, max…"
      ]
     },
     "metadata": {},
     "output_type": "display_data"
    },
    {
     "data": {
      "text/html": [
       "Synced <strong style=\"color:#cdcd00\">solar-water-2</strong>: <a href=\"https://wandb.ai/rram12/ppo-lunarlander/runs/181ohnpn\" target=\"_blank\">https://wandb.ai/rram12/ppo-lunarlander/runs/181ohnpn</a><br/>Synced 5 W&B file(s), 0 media file(s), 0 artifact file(s) and 0 other file(s)"
      ],
      "text/plain": [
       "<IPython.core.display.HTML object>"
      ]
     },
     "metadata": {},
     "output_type": "display_data"
    },
    {
     "name": "stderr",
     "output_type": "stream",
     "text": [
      "\u001b[32m[I 2022-09-18 14:49:23,732]\u001b[0m Trial 1 finished with value: 255.2893621331975 and parameters: {'n_epochs': 2, 'gamma': 0.9915443457513284, 'learning_rate': 0.005817780380698264, 'total_timesteps': 1799265}. Best is trial 1 with value: 255.2893621331975.\u001b[0m\n"
     ]
    },
    {
     "data": {
      "application/vnd.jupyter.widget-view+json": {
       "model_id": "f0ea7d0593e2404399fccd3380a222a3",
       "version_major": 2,
       "version_minor": 0
      },
      "text/plain": [
       "VBox(children=(Label(value='Waiting for wandb.init()...\\r'), FloatProgress(value=0.03334172566731771, max=1.0)…"
      ]
     },
     "metadata": {},
     "output_type": "display_data"
    },
    {
     "data": {
      "text/html": [
       "Tracking run with wandb version 0.13.3"
      ],
      "text/plain": [
       "<IPython.core.display.HTML object>"
      ]
     },
     "metadata": {},
     "output_type": "display_data"
    },
    {
     "data": {
      "text/html": [
       "Run data is saved locally in <code>/home/rram12/R_files/R/ML/RL/HF-DRL/wandb/run-20220918_144923-2s0yqbdj</code>"
      ],
      "text/plain": [
       "<IPython.core.display.HTML object>"
      ]
     },
     "metadata": {},
     "output_type": "display_data"
    },
    {
     "data": {
      "text/html": [
       "Syncing run <strong><a href=\"https://wandb.ai/rram12/ppo-lunarlander/runs/2s0yqbdj\" target=\"_blank\">good-water-3</a></strong> to <a href=\"https://wandb.ai/rram12/ppo-lunarlander\" target=\"_blank\">Weights & Biases</a> (<a href=\"https://wandb.me/run\" target=\"_blank\">docs</a>)<br/>"
      ],
      "text/plain": [
       "<IPython.core.display.HTML object>"
      ]
     },
     "metadata": {},
     "output_type": "display_data"
    },
    {
     "data": {
      "text/html": [
       "Waiting for W&B process to finish... <strong style=\"color:green\">(success).</strong>"
      ],
      "text/plain": [
       "<IPython.core.display.HTML object>"
      ]
     },
     "metadata": {},
     "output_type": "display_data"
    },
    {
     "data": {
      "application/vnd.jupyter.widget-view+json": {
       "model_id": "5036b2c70cdc48c6ba5c3fdfc2c4e573",
       "version_major": 2,
       "version_minor": 0
      },
      "text/plain": [
       "VBox(children=(Label(value='0.000 MB of 0.000 MB uploaded (0.000 MB deduped)\\r'), FloatProgress(value=1.0, max…"
      ]
     },
     "metadata": {},
     "output_type": "display_data"
    },
    {
     "data": {
      "text/html": [
       "Synced <strong style=\"color:#cdcd00\">good-water-3</strong>: <a href=\"https://wandb.ai/rram12/ppo-lunarlander/runs/2s0yqbdj\" target=\"_blank\">https://wandb.ai/rram12/ppo-lunarlander/runs/2s0yqbdj</a><br/>Synced 5 W&B file(s), 0 media file(s), 0 artifact file(s) and 0 other file(s)"
      ],
      "text/plain": [
       "<IPython.core.display.HTML object>"
      ]
     },
     "metadata": {},
     "output_type": "display_data"
    },
    {
     "name": "stderr",
     "output_type": "stream",
     "text": [
      "\u001b[32m[I 2022-09-18 17:19:50,034]\u001b[0m Trial 2 finished with value: 260.40295923902914 and parameters: {'n_epochs': 7, 'gamma': 0.9970099185201808, 'learning_rate': 0.002068243584637287, 'total_timesteps': 1954865}. Best is trial 2 with value: 260.40295923902914.\u001b[0m\n"
     ]
    },
    {
     "data": {
      "application/vnd.jupyter.widget-view+json": {
       "model_id": "f6f309c532644081971e246953820d37",
       "version_major": 2,
       "version_minor": 0
      },
      "text/plain": [
       "VBox(children=(Label(value='Waiting for wandb.init()...\\r'), FloatProgress(value=0.033339190483093264, max=1.0…"
      ]
     },
     "metadata": {},
     "output_type": "display_data"
    },
    {
     "data": {
      "text/html": [
       "Tracking run with wandb version 0.13.3"
      ],
      "text/plain": [
       "<IPython.core.display.HTML object>"
      ]
     },
     "metadata": {},
     "output_type": "display_data"
    },
    {
     "data": {
      "text/html": [
       "Run data is saved locally in <code>/home/rram12/R_files/R/ML/RL/HF-DRL/wandb/run-20220918_171950-3a6gvgi0</code>"
      ],
      "text/plain": [
       "<IPython.core.display.HTML object>"
      ]
     },
     "metadata": {},
     "output_type": "display_data"
    },
    {
     "data": {
      "text/html": [
       "Syncing run <strong><a href=\"https://wandb.ai/rram12/ppo-lunarlander/runs/3a6gvgi0\" target=\"_blank\">bumbling-salad-4</a></strong> to <a href=\"https://wandb.ai/rram12/ppo-lunarlander\" target=\"_blank\">Weights & Biases</a> (<a href=\"https://wandb.me/run\" target=\"_blank\">docs</a>)<br/>"
      ],
      "text/plain": [
       "<IPython.core.display.HTML object>"
      ]
     },
     "metadata": {},
     "output_type": "display_data"
    },
    {
     "data": {
      "text/html": [
       "Waiting for W&B process to finish... <strong style=\"color:green\">(success).</strong>"
      ],
      "text/plain": [
       "<IPython.core.display.HTML object>"
      ]
     },
     "metadata": {},
     "output_type": "display_data"
    },
    {
     "data": {
      "application/vnd.jupyter.widget-view+json": {
       "model_id": "3dde3d480a404103b57fa18d841e99e1",
       "version_major": 2,
       "version_minor": 0
      },
      "text/plain": [
       "VBox(children=(Label(value='0.000 MB of 0.000 MB uploaded (0.000 MB deduped)\\r'), FloatProgress(value=1.0, max…"
      ]
     },
     "metadata": {},
     "output_type": "display_data"
    },
    {
     "data": {
      "text/html": [
       "Synced <strong style=\"color:#cdcd00\">bumbling-salad-4</strong>: <a href=\"https://wandb.ai/rram12/ppo-lunarlander/runs/3a6gvgi0\" target=\"_blank\">https://wandb.ai/rram12/ppo-lunarlander/runs/3a6gvgi0</a><br/>Synced 5 W&B file(s), 0 media file(s), 0 artifact file(s) and 0 other file(s)"
      ],
      "text/plain": [
       "<IPython.core.display.HTML object>"
      ]
     },
     "metadata": {},
     "output_type": "display_data"
    },
    {
     "name": "stderr",
     "output_type": "stream",
     "text": [
      "\u001b[32m[I 2022-09-18 18:40:35,759]\u001b[0m Trial 3 finished with value: -1262.700103020085 and parameters: {'n_epochs': 9, 'gamma': 0.9921021571957149, 'learning_rate': 0.01819067847103799, 'total_timesteps': 775106}. Best is trial 2 with value: 260.40295923902914.\u001b[0m\n"
     ]
    },
    {
     "data": {
      "application/vnd.jupyter.widget-view+json": {
       "model_id": "e8dd302afe374c228800a347b11d387f",
       "version_major": 2,
       "version_minor": 0
      },
      "text/plain": [
       "VBox(children=(Label(value='Waiting for wandb.init()...\\r'), FloatProgress(value=0.0333403746287028, max=1.0))…"
      ]
     },
     "metadata": {},
     "output_type": "display_data"
    },
    {
     "data": {
      "text/html": [
       "Tracking run with wandb version 0.13.3"
      ],
      "text/plain": [
       "<IPython.core.display.HTML object>"
      ]
     },
     "metadata": {},
     "output_type": "display_data"
    },
    {
     "data": {
      "text/html": [
       "Run data is saved locally in <code>/home/rram12/R_files/R/ML/RL/HF-DRL/wandb/run-20220918_184035-1wfz38lo</code>"
      ],
      "text/plain": [
       "<IPython.core.display.HTML object>"
      ]
     },
     "metadata": {},
     "output_type": "display_data"
    },
    {
     "data": {
      "text/html": [
       "Syncing run <strong><a href=\"https://wandb.ai/rram12/ppo-lunarlander/runs/1wfz38lo\" target=\"_blank\">fearless-resonance-5</a></strong> to <a href=\"https://wandb.ai/rram12/ppo-lunarlander\" target=\"_blank\">Weights & Biases</a> (<a href=\"https://wandb.me/run\" target=\"_blank\">docs</a>)<br/>"
      ],
      "text/plain": [
       "<IPython.core.display.HTML object>"
      ]
     },
     "metadata": {},
     "output_type": "display_data"
    },
    {
     "data": {
      "text/html": [
       "Waiting for W&B process to finish... <strong style=\"color:green\">(success).</strong>"
      ],
      "text/plain": [
       "<IPython.core.display.HTML object>"
      ]
     },
     "metadata": {},
     "output_type": "display_data"
    },
    {
     "data": {
      "application/vnd.jupyter.widget-view+json": {
       "model_id": "ab763b363595438a9301462a87e99ce2",
       "version_major": 2,
       "version_minor": 0
      },
      "text/plain": [
       "VBox(children=(Label(value='0.000 MB of 0.000 MB uploaded (0.000 MB deduped)\\r'), FloatProgress(value=1.0, max…"
      ]
     },
     "metadata": {},
     "output_type": "display_data"
    },
    {
     "data": {
      "text/html": [
       "Synced <strong style=\"color:#cdcd00\">fearless-resonance-5</strong>: <a href=\"https://wandb.ai/rram12/ppo-lunarlander/runs/1wfz38lo\" target=\"_blank\">https://wandb.ai/rram12/ppo-lunarlander/runs/1wfz38lo</a><br/>Synced 5 W&B file(s), 0 media file(s), 0 artifact file(s) and 0 other file(s)"
      ],
      "text/plain": [
       "<IPython.core.display.HTML object>"
      ]
     },
     "metadata": {},
     "output_type": "display_data"
    },
    {
     "name": "stderr",
     "output_type": "stream",
     "text": [
      "\u001b[32m[I 2022-09-18 19:01:50,826]\u001b[0m Trial 4 finished with value: -190.18300451548194 and parameters: {'n_epochs': 4, 'gamma': 0.9951950886731592, 'learning_rate': 0.043200182414025165, 'total_timesteps': 936844}. Best is trial 2 with value: 260.40295923902914.\u001b[0m\n"
     ]
    },
    {
     "data": {
      "application/vnd.jupyter.widget-view+json": {
       "model_id": "b51ead642883496ea2f2e8a10753bca9",
       "version_major": 2,
       "version_minor": 0
      },
      "text/plain": [
       "VBox(children=(Label(value='Waiting for wandb.init()...\\r'), FloatProgress(value=0.03333714803059896, max=1.0)…"
      ]
     },
     "metadata": {},
     "output_type": "display_data"
    },
    {
     "data": {
      "text/html": [
       "Tracking run with wandb version 0.13.3"
      ],
      "text/plain": [
       "<IPython.core.display.HTML object>"
      ]
     },
     "metadata": {},
     "output_type": "display_data"
    },
    {
     "data": {
      "text/html": [
       "Run data is saved locally in <code>/home/rram12/R_files/R/ML/RL/HF-DRL/wandb/run-20220918_190150-1rveyxgc</code>"
      ],
      "text/plain": [
       "<IPython.core.display.HTML object>"
      ]
     },
     "metadata": {},
     "output_type": "display_data"
    },
    {
     "data": {
      "text/html": [
       "Syncing run <strong><a href=\"https://wandb.ai/rram12/ppo-lunarlander/runs/1rveyxgc\" target=\"_blank\">decent-oath-6</a></strong> to <a href=\"https://wandb.ai/rram12/ppo-lunarlander\" target=\"_blank\">Weights & Biases</a> (<a href=\"https://wandb.me/run\" target=\"_blank\">docs</a>)<br/>"
      ],
      "text/plain": [
       "<IPython.core.display.HTML object>"
      ]
     },
     "metadata": {},
     "output_type": "display_data"
    },
    {
     "data": {
      "text/html": [
       "Waiting for W&B process to finish... <strong style=\"color:green\">(success).</strong>"
      ],
      "text/plain": [
       "<IPython.core.display.HTML object>"
      ]
     },
     "metadata": {},
     "output_type": "display_data"
    },
    {
     "data": {
      "application/vnd.jupyter.widget-view+json": {
       "model_id": "ce376193a92a4982b5b6509150b8306e",
       "version_major": 2,
       "version_minor": 0
      },
      "text/plain": [
       "VBox(children=(Label(value='0.000 MB of 0.000 MB uploaded (0.000 MB deduped)\\r'), FloatProgress(value=1.0, max…"
      ]
     },
     "metadata": {},
     "output_type": "display_data"
    },
    {
     "data": {
      "text/html": [
       "Synced <strong style=\"color:#cdcd00\">decent-oath-6</strong>: <a href=\"https://wandb.ai/rram12/ppo-lunarlander/runs/1rveyxgc\" target=\"_blank\">https://wandb.ai/rram12/ppo-lunarlander/runs/1rveyxgc</a><br/>Synced 5 W&B file(s), 0 media file(s), 0 artifact file(s) and 0 other file(s)"
      ],
      "text/plain": [
       "<IPython.core.display.HTML object>"
      ]
     },
     "metadata": {},
     "output_type": "display_data"
    },
    {
     "name": "stderr",
     "output_type": "stream",
     "text": [
      "\u001b[32m[I 2022-09-18 19:27:48,800]\u001b[0m Trial 5 finished with value: -742.5212213003574 and parameters: {'n_epochs': 7, 'gamma': 0.9913809892204553, 'learning_rate': 0.029221543407036466, 'total_timesteps': 1049543}. Best is trial 2 with value: 260.40295923902914.\u001b[0m\n"
     ]
    },
    {
     "data": {
      "application/vnd.jupyter.widget-view+json": {
       "model_id": "8d6230c5732c476ebe47601d3003e078",
       "version_major": 2,
       "version_minor": 0
      },
      "text/plain": [
       "VBox(children=(Label(value='Waiting for wandb.init()...\\r'), FloatProgress(value=0.033340589205423994, max=1.0…"
      ]
     },
     "metadata": {},
     "output_type": "display_data"
    },
    {
     "data": {
      "text/html": [
       "Tracking run with wandb version 0.13.3"
      ],
      "text/plain": [
       "<IPython.core.display.HTML object>"
      ]
     },
     "metadata": {},
     "output_type": "display_data"
    },
    {
     "data": {
      "text/html": [
       "Run data is saved locally in <code>/home/rram12/R_files/R/ML/RL/HF-DRL/wandb/run-20220918_192748-25emwwel</code>"
      ],
      "text/plain": [
       "<IPython.core.display.HTML object>"
      ]
     },
     "metadata": {},
     "output_type": "display_data"
    },
    {
     "data": {
      "text/html": [
       "Syncing run <strong><a href=\"https://wandb.ai/rram12/ppo-lunarlander/runs/25emwwel\" target=\"_blank\">wise-armadillo-7</a></strong> to <a href=\"https://wandb.ai/rram12/ppo-lunarlander\" target=\"_blank\">Weights & Biases</a> (<a href=\"https://wandb.me/run\" target=\"_blank\">docs</a>)<br/>"
      ],
      "text/plain": [
       "<IPython.core.display.HTML object>"
      ]
     },
     "metadata": {},
     "output_type": "display_data"
    },
    {
     "data": {
      "text/html": [
       "Waiting for W&B process to finish... <strong style=\"color:green\">(success).</strong>"
      ],
      "text/plain": [
       "<IPython.core.display.HTML object>"
      ]
     },
     "metadata": {},
     "output_type": "display_data"
    },
    {
     "data": {
      "application/vnd.jupyter.widget-view+json": {
       "model_id": "fe7fff175bb84c42a42a08061153bec5",
       "version_major": 2,
       "version_minor": 0
      },
      "text/plain": [
       "VBox(children=(Label(value='0.000 MB of 0.000 MB uploaded (0.000 MB deduped)\\r'), FloatProgress(value=1.0, max…"
      ]
     },
     "metadata": {},
     "output_type": "display_data"
    },
    {
     "data": {
      "text/html": [
       "Synced <strong style=\"color:#cdcd00\">wise-armadillo-7</strong>: <a href=\"https://wandb.ai/rram12/ppo-lunarlander/runs/25emwwel\" target=\"_blank\">https://wandb.ai/rram12/ppo-lunarlander/runs/25emwwel</a><br/>Synced 5 W&B file(s), 0 media file(s), 0 artifact file(s) and 0 other file(s)"
      ],
      "text/plain": [
       "<IPython.core.display.HTML object>"
      ]
     },
     "metadata": {},
     "output_type": "display_data"
    },
    {
     "name": "stderr",
     "output_type": "stream",
     "text": [
      "\u001b[32m[I 2022-09-18 19:48:55,335]\u001b[0m Trial 6 finished with value: -742.0119162600843 and parameters: {'n_epochs': 5, 'gamma': 0.9977732420177908, 'learning_rate': 0.019975381478014392, 'total_timesteps': 1271352}. Best is trial 2 with value: 260.40295923902914.\u001b[0m\n"
     ]
    },
    {
     "data": {
      "application/vnd.jupyter.widget-view+json": {
       "model_id": "2f8913a99af242d387bdae7c562172e2",
       "version_major": 2,
       "version_minor": 0
      },
      "text/plain": [
       "VBox(children=(Label(value='Waiting for wandb.init()...\\r'), FloatProgress(value=0.03333758513132731, max=1.0)…"
      ]
     },
     "metadata": {},
     "output_type": "display_data"
    },
    {
     "data": {
      "text/html": [
       "Tracking run with wandb version 0.13.3"
      ],
      "text/plain": [
       "<IPython.core.display.HTML object>"
      ]
     },
     "metadata": {},
     "output_type": "display_data"
    },
    {
     "data": {
      "text/html": [
       "Run data is saved locally in <code>/home/rram12/R_files/R/ML/RL/HF-DRL/wandb/run-20220918_194855-3sf6hnrw</code>"
      ],
      "text/plain": [
       "<IPython.core.display.HTML object>"
      ]
     },
     "metadata": {},
     "output_type": "display_data"
    },
    {
     "data": {
      "text/html": [
       "Syncing run <strong><a href=\"https://wandb.ai/rram12/ppo-lunarlander/runs/3sf6hnrw\" target=\"_blank\">soft-leaf-8</a></strong> to <a href=\"https://wandb.ai/rram12/ppo-lunarlander\" target=\"_blank\">Weights & Biases</a> (<a href=\"https://wandb.me/run\" target=\"_blank\">docs</a>)<br/>"
      ],
      "text/plain": [
       "<IPython.core.display.HTML object>"
      ]
     },
     "metadata": {},
     "output_type": "display_data"
    },
    {
     "data": {
      "text/html": [
       "Waiting for W&B process to finish... <strong style=\"color:green\">(success).</strong>"
      ],
      "text/plain": [
       "<IPython.core.display.HTML object>"
      ]
     },
     "metadata": {},
     "output_type": "display_data"
    },
    {
     "data": {
      "application/vnd.jupyter.widget-view+json": {
       "model_id": "3e40c0054d974587ab61ac846b87e4b9",
       "version_major": 2,
       "version_minor": 0
      },
      "text/plain": [
       "VBox(children=(Label(value='0.000 MB of 0.000 MB uploaded (0.000 MB deduped)\\r'), FloatProgress(value=1.0, max…"
      ]
     },
     "metadata": {},
     "output_type": "display_data"
    },
    {
     "data": {
      "text/html": [
       "Synced <strong style=\"color:#cdcd00\">soft-leaf-8</strong>: <a href=\"https://wandb.ai/rram12/ppo-lunarlander/runs/3sf6hnrw\" target=\"_blank\">https://wandb.ai/rram12/ppo-lunarlander/runs/3sf6hnrw</a><br/>Synced 5 W&B file(s), 0 media file(s), 0 artifact file(s) and 0 other file(s)"
      ],
      "text/plain": [
       "<IPython.core.display.HTML object>"
      ]
     },
     "metadata": {},
     "output_type": "display_data"
    },
    {
     "name": "stderr",
     "output_type": "stream",
     "text": [
      "\u001b[32m[I 2022-09-18 20:05:45,914]\u001b[0m Trial 7 finished with value: -802.7476495720744 and parameters: {'n_epochs': 6, 'gamma': 0.9904598590859279, 'learning_rate': 0.06075840974162483, 'total_timesteps': 755786}. Best is trial 2 with value: 260.40295923902914.\u001b[0m\n"
     ]
    },
    {
     "data": {
      "application/vnd.jupyter.widget-view+json": {
       "model_id": "b6db4cfdbb4c4187bc4b9292e8b4737a",
       "version_major": 2,
       "version_minor": 0
      },
      "text/plain": [
       "VBox(children=(Label(value='Waiting for wandb.init()...\\r'), FloatProgress(value=0.03333817323048909, max=1.0)…"
      ]
     },
     "metadata": {},
     "output_type": "display_data"
    },
    {
     "data": {
      "text/html": [
       "Tracking run with wandb version 0.13.3"
      ],
      "text/plain": [
       "<IPython.core.display.HTML object>"
      ]
     },
     "metadata": {},
     "output_type": "display_data"
    },
    {
     "data": {
      "text/html": [
       "Run data is saved locally in <code>/home/rram12/R_files/R/ML/RL/HF-DRL/wandb/run-20220918_200545-qd0osyyv</code>"
      ],
      "text/plain": [
       "<IPython.core.display.HTML object>"
      ]
     },
     "metadata": {},
     "output_type": "display_data"
    },
    {
     "data": {
      "text/html": [
       "Syncing run <strong><a href=\"https://wandb.ai/rram12/ppo-lunarlander/runs/qd0osyyv\" target=\"_blank\">stellar-fog-9</a></strong> to <a href=\"https://wandb.ai/rram12/ppo-lunarlander\" target=\"_blank\">Weights & Biases</a> (<a href=\"https://wandb.me/run\" target=\"_blank\">docs</a>)<br/>"
      ],
      "text/plain": [
       "<IPython.core.display.HTML object>"
      ]
     },
     "metadata": {},
     "output_type": "display_data"
    },
    {
     "data": {
      "text/html": [
       "Waiting for W&B process to finish... <strong style=\"color:green\">(success).</strong>"
      ],
      "text/plain": [
       "<IPython.core.display.HTML object>"
      ]
     },
     "metadata": {},
     "output_type": "display_data"
    },
    {
     "data": {
      "application/vnd.jupyter.widget-view+json": {
       "model_id": "a88c668e3e7141ea8ae95c2a91bd102e",
       "version_major": 2,
       "version_minor": 0
      },
      "text/plain": [
       "VBox(children=(Label(value='0.000 MB of 0.000 MB uploaded (0.000 MB deduped)\\r'), FloatProgress(value=1.0, max…"
      ]
     },
     "metadata": {},
     "output_type": "display_data"
    },
    {
     "data": {
      "text/html": [
       "Synced <strong style=\"color:#cdcd00\">stellar-fog-9</strong>: <a href=\"https://wandb.ai/rram12/ppo-lunarlander/runs/qd0osyyv\" target=\"_blank\">https://wandb.ai/rram12/ppo-lunarlander/runs/qd0osyyv</a><br/>Synced 5 W&B file(s), 0 media file(s), 0 artifact file(s) and 0 other file(s)"
      ],
      "text/plain": [
       "<IPython.core.display.HTML object>"
      ]
     },
     "metadata": {},
     "output_type": "display_data"
    },
    {
     "name": "stderr",
     "output_type": "stream",
     "text": [
      "\u001b[32m[I 2022-09-18 20:19:05,963]\u001b[0m Trial 8 finished with value: -1119.5961525674804 and parameters: {'n_epochs': 1, 'gamma': 0.999393966818808, 'learning_rate': 0.0965635469871252, 'total_timesteps': 1712596}. Best is trial 2 with value: 260.40295923902914.\u001b[0m\n"
     ]
    },
    {
     "data": {
      "application/vnd.jupyter.widget-view+json": {
       "model_id": "a4f3441b3ebc4d7fbb0fa8c7099a88b6",
       "version_major": 2,
       "version_minor": 0
      },
      "text/plain": [
       "VBox(children=(Label(value='Waiting for wandb.init()...\\r'), FloatProgress(value=0.03333842754364014, max=1.0)…"
      ]
     },
     "metadata": {},
     "output_type": "display_data"
    },
    {
     "data": {
      "text/html": [
       "Tracking run with wandb version 0.13.3"
      ],
      "text/plain": [
       "<IPython.core.display.HTML object>"
      ]
     },
     "metadata": {},
     "output_type": "display_data"
    },
    {
     "data": {
      "text/html": [
       "Run data is saved locally in <code>/home/rram12/R_files/R/ML/RL/HF-DRL/wandb/run-20220918_201906-1sevwueo</code>"
      ],
      "text/plain": [
       "<IPython.core.display.HTML object>"
      ]
     },
     "metadata": {},
     "output_type": "display_data"
    },
    {
     "data": {
      "text/html": [
       "Syncing run <strong><a href=\"https://wandb.ai/rram12/ppo-lunarlander/runs/1sevwueo\" target=\"_blank\">brisk-planet-10</a></strong> to <a href=\"https://wandb.ai/rram12/ppo-lunarlander\" target=\"_blank\">Weights & Biases</a> (<a href=\"https://wandb.me/run\" target=\"_blank\">docs</a>)<br/>"
      ],
      "text/plain": [
       "<IPython.core.display.HTML object>"
      ]
     },
     "metadata": {},
     "output_type": "display_data"
    },
    {
     "data": {
      "text/html": [
       "Waiting for W&B process to finish... <strong style=\"color:green\">(success).</strong>"
      ],
      "text/plain": [
       "<IPython.core.display.HTML object>"
      ]
     },
     "metadata": {},
     "output_type": "display_data"
    },
    {
     "data": {
      "application/vnd.jupyter.widget-view+json": {
       "model_id": "fdfb831929834647a73a68aff11967be",
       "version_major": 2,
       "version_minor": 0
      },
      "text/plain": [
       "VBox(children=(Label(value='0.000 MB of 0.000 MB uploaded (0.000 MB deduped)\\r'), FloatProgress(value=1.0, max…"
      ]
     },
     "metadata": {},
     "output_type": "display_data"
    },
    {
     "data": {
      "text/html": [
       "Synced <strong style=\"color:#cdcd00\">brisk-planet-10</strong>: <a href=\"https://wandb.ai/rram12/ppo-lunarlander/runs/1sevwueo\" target=\"_blank\">https://wandb.ai/rram12/ppo-lunarlander/runs/1sevwueo</a><br/>Synced 5 W&B file(s), 0 media file(s), 0 artifact file(s) and 0 other file(s)"
      ],
      "text/plain": [
       "<IPython.core.display.HTML object>"
      ]
     },
     "metadata": {},
     "output_type": "display_data"
    },
    {
     "name": "stderr",
     "output_type": "stream",
     "text": [
      "\u001b[32m[I 2022-09-18 20:33:08,923]\u001b[0m Trial 9 finished with value: -166.51402277765695 and parameters: {'n_epochs': 4, 'gamma': 0.9909669539286632, 'learning_rate': 0.06842646032095057, 'total_timesteps': 1160229}. Best is trial 2 with value: 260.40295923902914.\u001b[0m\n"
     ]
    }
   ],
   "source": [
    "study = optuna.create_study(sampler=TPESampler(seed=42), study_name=\"PPO-LunarLander-v2\", direction=\"maximize\")\n",
    "study.optimize(objective, n_trials=1)"
   ]
  },
  {
   "cell_type": "code",
   "execution_count": 7,
   "metadata": {},
   "outputs": [
    {
     "name": "stdout",
     "output_type": "stream",
     "text": [
      "Best trial score:  [260.40295923902914]\n",
      "Best trial params:  {'n_epochs': 7, 'gamma': 0.9970099185201808, 'learning_rate': 0.002068243584637287, 'total_timesteps': 1954865}\n"
     ]
    }
   ],
   "source": [
    "print(\"Best trial score: \", study.best_trial.values)\n",
    "print(\"Best trial params: \", study.best_trial.params)"
   ]
  },
  {
   "cell_type": "markdown",
   "metadata": {},
   "source": [
    "### Recreating and Saving the Best Model"
   ]
  },
  {
   "cell_type": "code",
   "execution_count": 8,
   "metadata": {},
   "outputs": [
    {
     "name": "stdout",
     "output_type": "stream",
     "text": [
      "Using cuda device\n",
      "---------------------------------\n",
      "| rollout/           |          |\n",
      "|    ep_len_mean     | 97.2     |\n",
      "|    ep_rew_mean     | -172     |\n",
      "| time/              |          |\n",
      "|    fps             | 4967     |\n",
      "|    iterations      | 1        |\n",
      "|    time_elapsed    | 6        |\n",
      "|    total_timesteps | 32768    |\n",
      "---------------------------------\n",
      "-----------------------------------------\n",
      "| rollout/                |             |\n",
      "|    ep_len_mean          | 98          |\n",
      "|    ep_rew_mean          | -133        |\n",
      "| time/                   |             |\n",
      "|    fps                  | 1495        |\n",
      "|    iterations           | 2           |\n",
      "|    time_elapsed         | 43          |\n",
      "|    total_timesteps      | 65536       |\n",
      "| train/                  |             |\n",
      "|    approx_kl            | 0.009259807 |\n",
      "|    clip_fraction        | 0.121       |\n",
      "|    clip_range           | 0.2         |\n",
      "|    entropy_loss         | -1.38       |\n",
      "|    explained_variance   | -0.00321    |\n",
      "|    learning_rate        | 0.00207     |\n",
      "|    loss                 | 180         |\n",
      "|    n_updates            | 7           |\n",
      "|    policy_gradient_loss | -0.0071     |\n",
      "|    value_loss           | 476         |\n",
      "-----------------------------------------\n",
      "-----------------------------------------\n",
      "| rollout/                |             |\n",
      "|    ep_len_mean          | 93.7        |\n",
      "|    ep_rew_mean          | -93.1       |\n",
      "| time/                   |             |\n",
      "|    fps                  | 1438        |\n",
      "|    iterations           | 3           |\n",
      "|    time_elapsed         | 68          |\n",
      "|    total_timesteps      | 98304       |\n",
      "| train/                  |             |\n",
      "|    approx_kl            | 0.012267332 |\n",
      "|    clip_fraction        | 0.195       |\n",
      "|    clip_range           | 0.2         |\n",
      "|    entropy_loss         | -1.35       |\n",
      "|    explained_variance   | 0.639       |\n",
      "|    learning_rate        | 0.00207     |\n",
      "|    loss                 | 145         |\n",
      "|    n_updates            | 14          |\n",
      "|    policy_gradient_loss | -0.0169     |\n",
      "|    value_loss           | 252         |\n",
      "-----------------------------------------\n",
      "-----------------------------------------\n",
      "| rollout/                |             |\n",
      "|    ep_len_mean          | 111         |\n",
      "|    ep_rew_mean          | -58.7       |\n",
      "| time/                   |             |\n",
      "|    fps                  | 1190        |\n",
      "|    iterations           | 4           |\n",
      "|    time_elapsed         | 110         |\n",
      "|    total_timesteps      | 131072      |\n",
      "| train/                  |             |\n",
      "|    approx_kl            | 0.015016329 |\n",
      "|    clip_fraction        | 0.253       |\n",
      "|    clip_range           | 0.2         |\n",
      "|    entropy_loss         | -1.31       |\n",
      "|    explained_variance   | 0.731       |\n",
      "|    learning_rate        | 0.00207     |\n",
      "|    loss                 | 41.4        |\n",
      "|    n_updates            | 21          |\n",
      "|    policy_gradient_loss | -0.0221     |\n",
      "|    value_loss           | 143         |\n",
      "-----------------------------------------\n",
      "-----------------------------------------\n",
      "| rollout/                |             |\n",
      "|    ep_len_mean          | 122         |\n",
      "|    ep_rew_mean          | -37.4       |\n",
      "| time/                   |             |\n",
      "|    fps                  | 1102        |\n",
      "|    iterations           | 5           |\n",
      "|    time_elapsed         | 148         |\n",
      "|    total_timesteps      | 163840      |\n",
      "| train/                  |             |\n",
      "|    approx_kl            | 0.016953982 |\n",
      "|    clip_fraction        | 0.281       |\n",
      "|    clip_range           | 0.2         |\n",
      "|    entropy_loss         | -1.25       |\n",
      "|    explained_variance   | 0.774       |\n",
      "|    learning_rate        | 0.00207     |\n",
      "|    loss                 | 26.6        |\n",
      "|    n_updates            | 28          |\n",
      "|    policy_gradient_loss | -0.022      |\n",
      "|    value_loss           | 73.2        |\n",
      "-----------------------------------------\n",
      "-----------------------------------------\n",
      "| rollout/                |             |\n",
      "|    ep_len_mean          | 194         |\n",
      "|    ep_rew_mean          | -22         |\n",
      "| time/                   |             |\n",
      "|    fps                  | 992         |\n",
      "|    iterations           | 6           |\n",
      "|    time_elapsed         | 198         |\n",
      "|    total_timesteps      | 196608      |\n",
      "| train/                  |             |\n",
      "|    approx_kl            | 0.016030367 |\n",
      "|    clip_fraction        | 0.283       |\n",
      "|    clip_range           | 0.2         |\n",
      "|    entropy_loss         | -1.18       |\n",
      "|    explained_variance   | 0.877       |\n",
      "|    learning_rate        | 0.00207     |\n",
      "|    loss                 | 17.2        |\n",
      "|    n_updates            | 35          |\n",
      "|    policy_gradient_loss | -0.022      |\n",
      "|    value_loss           | 37.2        |\n",
      "-----------------------------------------\n",
      "-----------------------------------------\n",
      "| rollout/                |             |\n",
      "|    ep_len_mean          | 331         |\n",
      "|    ep_rew_mean          | -7.67       |\n",
      "| time/                   |             |\n",
      "|    fps                  | 885         |\n",
      "|    iterations           | 7           |\n",
      "|    time_elapsed         | 259         |\n",
      "|    total_timesteps      | 229376      |\n",
      "| train/                  |             |\n",
      "|    approx_kl            | 0.015846437 |\n",
      "|    clip_fraction        | 0.238       |\n",
      "|    clip_range           | 0.2         |\n",
      "|    entropy_loss         | -1.12       |\n",
      "|    explained_variance   | 0.864       |\n",
      "|    learning_rate        | 0.00207     |\n",
      "|    loss                 | 18.5        |\n",
      "|    n_updates            | 42          |\n",
      "|    policy_gradient_loss | -0.0129     |\n",
      "|    value_loss           | 38.9        |\n",
      "-----------------------------------------\n",
      "-----------------------------------------\n",
      "| rollout/                |             |\n",
      "|    ep_len_mean          | 539         |\n",
      "|    ep_rew_mean          | 17.3        |\n",
      "| time/                   |             |\n",
      "|    fps                  | 809         |\n",
      "|    iterations           | 8           |\n",
      "|    time_elapsed         | 323         |\n",
      "|    total_timesteps      | 262144      |\n",
      "| train/                  |             |\n",
      "|    approx_kl            | 0.013203407 |\n",
      "|    clip_fraction        | 0.158       |\n",
      "|    clip_range           | 0.2         |\n",
      "|    entropy_loss         | -1.14       |\n",
      "|    explained_variance   | 0.899       |\n",
      "|    learning_rate        | 0.00207     |\n",
      "|    loss                 | 19.8        |\n",
      "|    n_updates            | 49          |\n",
      "|    policy_gradient_loss | -0.00605    |\n",
      "|    value_loss           | 32.6        |\n",
      "-----------------------------------------\n",
      "----------------------------------------\n",
      "| rollout/                |            |\n",
      "|    ep_len_mean          | 676        |\n",
      "|    ep_rew_mean          | 43.4       |\n",
      "| time/                   |            |\n",
      "|    fps                  | 748        |\n",
      "|    iterations           | 9          |\n",
      "|    time_elapsed         | 393        |\n",
      "|    total_timesteps      | 294912     |\n",
      "| train/                  |            |\n",
      "|    approx_kl            | 0.01078938 |\n",
      "|    clip_fraction        | 0.159      |\n",
      "|    clip_range           | 0.2        |\n",
      "|    entropy_loss         | -1.19      |\n",
      "|    explained_variance   | 0.926      |\n",
      "|    learning_rate        | 0.00207    |\n",
      "|    loss                 | 4.48       |\n",
      "|    n_updates            | 56         |\n",
      "|    policy_gradient_loss | -0.0045    |\n",
      "|    value_loss           | 23.2       |\n",
      "----------------------------------------\n",
      "-----------------------------------------\n",
      "| rollout/                |             |\n",
      "|    ep_len_mean          | 633         |\n",
      "|    ep_rew_mean          | 53.9        |\n",
      "| time/                   |             |\n",
      "|    fps                  | 704         |\n",
      "|    iterations           | 10          |\n",
      "|    time_elapsed         | 465         |\n",
      "|    total_timesteps      | 327680      |\n",
      "| train/                  |             |\n",
      "|    approx_kl            | 0.011260051 |\n",
      "|    clip_fraction        | 0.172       |\n",
      "|    clip_range           | 0.2         |\n",
      "|    entropy_loss         | -1.18       |\n",
      "|    explained_variance   | 0.944       |\n",
      "|    learning_rate        | 0.00207     |\n",
      "|    loss                 | 12.6        |\n",
      "|    n_updates            | 63          |\n",
      "|    policy_gradient_loss | -0.00453    |\n",
      "|    value_loss           | 29.5        |\n",
      "-----------------------------------------\n",
      "-----------------------------------------\n",
      "| rollout/                |             |\n",
      "|    ep_len_mean          | 740         |\n",
      "|    ep_rew_mean          | 69.9        |\n",
      "| time/                   |             |\n",
      "|    fps                  | 665         |\n",
      "|    iterations           | 11          |\n",
      "|    time_elapsed         | 541         |\n",
      "|    total_timesteps      | 360448      |\n",
      "| train/                  |             |\n",
      "|    approx_kl            | 0.011839116 |\n",
      "|    clip_fraction        | 0.157       |\n",
      "|    clip_range           | 0.2         |\n",
      "|    entropy_loss         | -1.17       |\n",
      "|    explained_variance   | 0.954       |\n",
      "|    learning_rate        | 0.00207     |\n",
      "|    loss                 | 6.98        |\n",
      "|    n_updates            | 70          |\n",
      "|    policy_gradient_loss | -0.00513    |\n",
      "|    value_loss           | 16          |\n",
      "-----------------------------------------\n",
      "-----------------------------------------\n",
      "| rollout/                |             |\n",
      "|    ep_len_mean          | 872         |\n",
      "|    ep_rew_mean          | 92.3        |\n",
      "| time/                   |             |\n",
      "|    fps                  | 667         |\n",
      "|    iterations           | 12          |\n",
      "|    time_elapsed         | 589         |\n",
      "|    total_timesteps      | 393216      |\n",
      "| train/                  |             |\n",
      "|    approx_kl            | 0.009317849 |\n",
      "|    clip_fraction        | 0.115       |\n",
      "|    clip_range           | 0.2         |\n",
      "|    entropy_loss         | -1.16       |\n",
      "|    explained_variance   | 0.964       |\n",
      "|    learning_rate        | 0.00207     |\n",
      "|    loss                 | 4.49        |\n",
      "|    n_updates            | 77          |\n",
      "|    policy_gradient_loss | -0.00249    |\n",
      "|    value_loss           | 7.19        |\n",
      "-----------------------------------------\n",
      "-----------------------------------------\n",
      "| rollout/                |             |\n",
      "|    ep_len_mean          | 972         |\n",
      "|    ep_rew_mean          | 115         |\n",
      "| time/                   |             |\n",
      "|    fps                  | 656         |\n",
      "|    iterations           | 13          |\n",
      "|    time_elapsed         | 649         |\n",
      "|    total_timesteps      | 425984      |\n",
      "| train/                  |             |\n",
      "|    approx_kl            | 0.009426807 |\n",
      "|    clip_fraction        | 0.0968      |\n",
      "|    clip_range           | 0.2         |\n",
      "|    entropy_loss         | -1.09       |\n",
      "|    explained_variance   | 0.976       |\n",
      "|    learning_rate        | 0.00207     |\n",
      "|    loss                 | 3.36        |\n",
      "|    n_updates            | 84          |\n",
      "|    policy_gradient_loss | -0.00218    |\n",
      "|    value_loss           | 6.85        |\n",
      "-----------------------------------------\n",
      "-----------------------------------------\n",
      "| rollout/                |             |\n",
      "|    ep_len_mean          | 950         |\n",
      "|    ep_rew_mean          | 123         |\n",
      "| time/                   |             |\n",
      "|    fps                  | 647         |\n",
      "|    iterations           | 14          |\n",
      "|    time_elapsed         | 708         |\n",
      "|    total_timesteps      | 458752      |\n",
      "| train/                  |             |\n",
      "|    approx_kl            | 0.007475756 |\n",
      "|    clip_fraction        | 0.0789      |\n",
      "|    clip_range           | 0.2         |\n",
      "|    entropy_loss         | -1.06       |\n",
      "|    explained_variance   | 0.988       |\n",
      "|    learning_rate        | 0.00207     |\n",
      "|    loss                 | 0.731       |\n",
      "|    n_updates            | 91          |\n",
      "|    policy_gradient_loss | -0.000965   |\n",
      "|    value_loss           | 3           |\n",
      "-----------------------------------------\n",
      "------------------------------------------\n",
      "| rollout/                |              |\n",
      "|    ep_len_mean          | 937          |\n",
      "|    ep_rew_mean          | 126          |\n",
      "| time/                   |              |\n",
      "|    fps                  | 634          |\n",
      "|    iterations           | 15           |\n",
      "|    time_elapsed         | 774          |\n",
      "|    total_timesteps      | 491520       |\n",
      "| train/                  |              |\n",
      "|    approx_kl            | 0.0065590376 |\n",
      "|    clip_fraction        | 0.077        |\n",
      "|    clip_range           | 0.2          |\n",
      "|    entropy_loss         | -0.991       |\n",
      "|    explained_variance   | 0.983        |\n",
      "|    learning_rate        | 0.00207      |\n",
      "|    loss                 | 1.13         |\n",
      "|    n_updates            | 98           |\n",
      "|    policy_gradient_loss | -0.00151     |\n",
      "|    value_loss           | 7.79         |\n",
      "------------------------------------------\n",
      "------------------------------------------\n",
      "| rollout/                |              |\n",
      "|    ep_len_mean          | 930          |\n",
      "|    ep_rew_mean          | 130          |\n",
      "| time/                   |              |\n",
      "|    fps                  | 629          |\n",
      "|    iterations           | 16           |\n",
      "|    time_elapsed         | 832          |\n",
      "|    total_timesteps      | 524288       |\n",
      "| train/                  |              |\n",
      "|    approx_kl            | 0.0075801485 |\n",
      "|    clip_fraction        | 0.102        |\n",
      "|    clip_range           | 0.2          |\n",
      "|    entropy_loss         | -0.937       |\n",
      "|    explained_variance   | 0.988        |\n",
      "|    learning_rate        | 0.00207      |\n",
      "|    loss                 | 1.79         |\n",
      "|    n_updates            | 105          |\n",
      "|    policy_gradient_loss | -0.00226     |\n",
      "|    value_loss           | 6.88         |\n",
      "------------------------------------------\n",
      "-----------------------------------------\n",
      "| rollout/                |             |\n",
      "|    ep_len_mean          | 917         |\n",
      "|    ep_rew_mean          | 167         |\n",
      "| time/                   |             |\n",
      "|    fps                  | 624         |\n",
      "|    iterations           | 17          |\n",
      "|    time_elapsed         | 892         |\n",
      "|    total_timesteps      | 557056      |\n",
      "| train/                  |             |\n",
      "|    approx_kl            | 0.008628495 |\n",
      "|    clip_fraction        | 0.098       |\n",
      "|    clip_range           | 0.2         |\n",
      "|    entropy_loss         | -0.873      |\n",
      "|    explained_variance   | 0.99        |\n",
      "|    learning_rate        | 0.00207     |\n",
      "|    loss                 | 0.604       |\n",
      "|    n_updates            | 112         |\n",
      "|    policy_gradient_loss | -0.00256    |\n",
      "|    value_loss           | 9.93        |\n",
      "-----------------------------------------\n",
      "-----------------------------------------\n",
      "| rollout/                |             |\n",
      "|    ep_len_mean          | 849         |\n",
      "|    ep_rew_mean          | 185         |\n",
      "| time/                   |             |\n",
      "|    fps                  | 616         |\n",
      "|    iterations           | 18          |\n",
      "|    time_elapsed         | 957         |\n",
      "|    total_timesteps      | 589824      |\n",
      "| train/                  |             |\n",
      "|    approx_kl            | 0.012193827 |\n",
      "|    clip_fraction        | 0.161       |\n",
      "|    clip_range           | 0.2         |\n",
      "|    entropy_loss         | -0.752      |\n",
      "|    explained_variance   | 0.909       |\n",
      "|    learning_rate        | 0.00207     |\n",
      "|    loss                 | 443         |\n",
      "|    n_updates            | 119         |\n",
      "|    policy_gradient_loss | -0.00473    |\n",
      "|    value_loss           | 125         |\n",
      "-----------------------------------------\n",
      "-----------------------------------------\n",
      "| rollout/                |             |\n",
      "|    ep_len_mean          | 568         |\n",
      "|    ep_rew_mean          | 210         |\n",
      "| time/                   |             |\n",
      "|    fps                  | 615         |\n",
      "|    iterations           | 19          |\n",
      "|    time_elapsed         | 1010        |\n",
      "|    total_timesteps      | 622592      |\n",
      "| train/                  |             |\n",
      "|    approx_kl            | 0.008209879 |\n",
      "|    clip_fraction        | 0.124       |\n",
      "|    clip_range           | 0.2         |\n",
      "|    entropy_loss         | -0.713      |\n",
      "|    explained_variance   | 0.907       |\n",
      "|    learning_rate        | 0.00207     |\n",
      "|    loss                 | 1.45        |\n",
      "|    n_updates            | 126         |\n",
      "|    policy_gradient_loss | -0.00265    |\n",
      "|    value_loss           | 113         |\n",
      "-----------------------------------------\n",
      "-----------------------------------------\n",
      "| rollout/                |             |\n",
      "|    ep_len_mean          | 254         |\n",
      "|    ep_rew_mean          | 227         |\n",
      "| time/                   |             |\n",
      "|    fps                  | 621         |\n",
      "|    iterations           | 20          |\n",
      "|    time_elapsed         | 1054        |\n",
      "|    total_timesteps      | 655360      |\n",
      "| train/                  |             |\n",
      "|    approx_kl            | 0.101255074 |\n",
      "|    clip_fraction        | 0.174       |\n",
      "|    clip_range           | 0.2         |\n",
      "|    entropy_loss         | -0.597      |\n",
      "|    explained_variance   | 0.8         |\n",
      "|    learning_rate        | 0.00207     |\n",
      "|    loss                 | 161         |\n",
      "|    n_updates            | 133         |\n",
      "|    policy_gradient_loss | -0.0118     |\n",
      "|    value_loss           | 324         |\n",
      "-----------------------------------------\n",
      "-----------------------------------------\n",
      "| rollout/                |             |\n",
      "|    ep_len_mean          | 297         |\n",
      "|    ep_rew_mean          | 231         |\n",
      "| time/                   |             |\n",
      "|    fps                  | 627         |\n",
      "|    iterations           | 21          |\n",
      "|    time_elapsed         | 1096        |\n",
      "|    total_timesteps      | 688128      |\n",
      "| train/                  |             |\n",
      "|    approx_kl            | 0.014143655 |\n",
      "|    clip_fraction        | 0.129       |\n",
      "|    clip_range           | 0.2         |\n",
      "|    entropy_loss         | -0.834      |\n",
      "|    explained_variance   | 0.659       |\n",
      "|    learning_rate        | 0.00207     |\n",
      "|    loss                 | 73.9        |\n",
      "|    n_updates            | 140         |\n",
      "|    policy_gradient_loss | -0.00237    |\n",
      "|    value_loss           | 215         |\n",
      "-----------------------------------------\n",
      "-----------------------------------------\n",
      "| rollout/                |             |\n",
      "|    ep_len_mean          | 280         |\n",
      "|    ep_rew_mean          | 247         |\n",
      "| time/                   |             |\n",
      "|    fps                  | 629         |\n",
      "|    iterations           | 22          |\n",
      "|    time_elapsed         | 1145        |\n",
      "|    total_timesteps      | 720896      |\n",
      "| train/                  |             |\n",
      "|    approx_kl            | 0.010782654 |\n",
      "|    clip_fraction        | 0.122       |\n",
      "|    clip_range           | 0.2         |\n",
      "|    entropy_loss         | -0.831      |\n",
      "|    explained_variance   | 0.87        |\n",
      "|    learning_rate        | 0.00207     |\n",
      "|    loss                 | 33.2        |\n",
      "|    n_updates            | 147         |\n",
      "|    policy_gradient_loss | -0.000547   |\n",
      "|    value_loss           | 103         |\n",
      "-----------------------------------------\n",
      "-----------------------------------------\n",
      "| rollout/                |             |\n",
      "|    ep_len_mean          | 251         |\n",
      "|    ep_rew_mean          | 253         |\n",
      "| time/                   |             |\n",
      "|    fps                  | 628         |\n",
      "|    iterations           | 23          |\n",
      "|    time_elapsed         | 1199        |\n",
      "|    total_timesteps      | 753664      |\n",
      "| train/                  |             |\n",
      "|    approx_kl            | 0.011982584 |\n",
      "|    clip_fraction        | 0.131       |\n",
      "|    clip_range           | 0.2         |\n",
      "|    entropy_loss         | -0.82       |\n",
      "|    explained_variance   | 0.883       |\n",
      "|    learning_rate        | 0.00207     |\n",
      "|    loss                 | 31.3        |\n",
      "|    n_updates            | 154         |\n",
      "|    policy_gradient_loss | -0.000529   |\n",
      "|    value_loss           | 82.4        |\n",
      "-----------------------------------------\n",
      "----------------------------------------\n",
      "| rollout/                |            |\n",
      "|    ep_len_mean          | 285        |\n",
      "|    ep_rew_mean          | 245        |\n",
      "| time/                   |            |\n",
      "|    fps                  | 632        |\n",
      "|    iterations           | 24         |\n",
      "|    time_elapsed         | 1244       |\n",
      "|    total_timesteps      | 786432     |\n",
      "| train/                  |            |\n",
      "|    approx_kl            | 0.00985237 |\n",
      "|    clip_fraction        | 0.108      |\n",
      "|    clip_range           | 0.2        |\n",
      "|    entropy_loss         | -0.793     |\n",
      "|    explained_variance   | 0.898      |\n",
      "|    learning_rate        | 0.00207    |\n",
      "|    loss                 | 27.7       |\n",
      "|    n_updates            | 161        |\n",
      "|    policy_gradient_loss | 0.000575   |\n",
      "|    value_loss           | 49.8       |\n",
      "----------------------------------------\n",
      "-----------------------------------------\n",
      "| rollout/                |             |\n",
      "|    ep_len_mean          | 302         |\n",
      "|    ep_rew_mean          | 250         |\n",
      "| time/                   |             |\n",
      "|    fps                  | 636         |\n",
      "|    iterations           | 25          |\n",
      "|    time_elapsed         | 1287        |\n",
      "|    total_timesteps      | 819200      |\n",
      "| train/                  |             |\n",
      "|    approx_kl            | 0.009073104 |\n",
      "|    clip_fraction        | 0.0993      |\n",
      "|    clip_range           | 0.2         |\n",
      "|    entropy_loss         | -0.828      |\n",
      "|    explained_variance   | 0.94        |\n",
      "|    learning_rate        | 0.00207     |\n",
      "|    loss                 | 15.7        |\n",
      "|    n_updates            | 168         |\n",
      "|    policy_gradient_loss | -0.000141   |\n",
      "|    value_loss           | 44.6        |\n",
      "-----------------------------------------\n",
      "-----------------------------------------\n",
      "| rollout/                |             |\n",
      "|    ep_len_mean          | 296         |\n",
      "|    ep_rew_mean          | 247         |\n",
      "| time/                   |             |\n",
      "|    fps                  | 638         |\n",
      "|    iterations           | 26          |\n",
      "|    time_elapsed         | 1333        |\n",
      "|    total_timesteps      | 851968      |\n",
      "| train/                  |             |\n",
      "|    approx_kl            | 0.009027925 |\n",
      "|    clip_fraction        | 0.0951      |\n",
      "|    clip_range           | 0.2         |\n",
      "|    entropy_loss         | -0.801      |\n",
      "|    explained_variance   | 0.947       |\n",
      "|    learning_rate        | 0.00207     |\n",
      "|    loss                 | 26.9        |\n",
      "|    n_updates            | 175         |\n",
      "|    policy_gradient_loss | 0.000389    |\n",
      "|    value_loss           | 44.8        |\n",
      "-----------------------------------------\n",
      "-----------------------------------------\n",
      "| rollout/                |             |\n",
      "|    ep_len_mean          | 270         |\n",
      "|    ep_rew_mean          | 266         |\n",
      "| time/                   |             |\n",
      "|    fps                  | 638         |\n",
      "|    iterations           | 27          |\n",
      "|    time_elapsed         | 1386        |\n",
      "|    total_timesteps      | 884736      |\n",
      "| train/                  |             |\n",
      "|    approx_kl            | 0.009977536 |\n",
      "|    clip_fraction        | 0.0987      |\n",
      "|    clip_range           | 0.2         |\n",
      "|    entropy_loss         | -0.789      |\n",
      "|    explained_variance   | 0.959       |\n",
      "|    learning_rate        | 0.00207     |\n",
      "|    loss                 | 27.1        |\n",
      "|    n_updates            | 182         |\n",
      "|    policy_gradient_loss | -0.000686   |\n",
      "|    value_loss           | 78.5        |\n",
      "-----------------------------------------\n",
      "-----------------------------------------\n",
      "| rollout/                |             |\n",
      "|    ep_len_mean          | 253         |\n",
      "|    ep_rew_mean          | 273         |\n",
      "| time/                   |             |\n",
      "|    fps                  | 638         |\n",
      "|    iterations           | 28          |\n",
      "|    time_elapsed         | 1435        |\n",
      "|    total_timesteps      | 917504      |\n",
      "| train/                  |             |\n",
      "|    approx_kl            | 0.009592341 |\n",
      "|    clip_fraction        | 0.105       |\n",
      "|    clip_range           | 0.2         |\n",
      "|    entropy_loss         | -0.765      |\n",
      "|    explained_variance   | 0.969       |\n",
      "|    learning_rate        | 0.00207     |\n",
      "|    loss                 | 8.08        |\n",
      "|    n_updates            | 189         |\n",
      "|    policy_gradient_loss | 0.00124     |\n",
      "|    value_loss           | 27          |\n",
      "-----------------------------------------\n",
      "-----------------------------------------\n",
      "| rollout/                |             |\n",
      "|    ep_len_mean          | 247         |\n",
      "|    ep_rew_mean          | 275         |\n",
      "| time/                   |             |\n",
      "|    fps                  | 638         |\n",
      "|    iterations           | 29          |\n",
      "|    time_elapsed         | 1488        |\n",
      "|    total_timesteps      | 950272      |\n",
      "| train/                  |             |\n",
      "|    approx_kl            | 0.011483037 |\n",
      "|    clip_fraction        | 0.124       |\n",
      "|    clip_range           | 0.2         |\n",
      "|    entropy_loss         | -0.805      |\n",
      "|    explained_variance   | 0.912       |\n",
      "|    learning_rate        | 0.00207     |\n",
      "|    loss                 | 3.61        |\n",
      "|    n_updates            | 196         |\n",
      "|    policy_gradient_loss | -0.000363   |\n",
      "|    value_loss           | 11.8        |\n",
      "-----------------------------------------\n",
      "----------------------------------------\n",
      "| rollout/                |            |\n",
      "|    ep_len_mean          | 236        |\n",
      "|    ep_rew_mean          | 271        |\n",
      "| time/                   |            |\n",
      "|    fps                  | 645        |\n",
      "|    iterations           | 30         |\n",
      "|    time_elapsed         | 1522       |\n",
      "|    total_timesteps      | 983040     |\n",
      "| train/                  |            |\n",
      "|    approx_kl            | 0.00934295 |\n",
      "|    clip_fraction        | 0.118      |\n",
      "|    clip_range           | 0.2        |\n",
      "|    entropy_loss         | -0.795     |\n",
      "|    explained_variance   | 0.9        |\n",
      "|    learning_rate        | 0.00207    |\n",
      "|    loss                 | 3.27       |\n",
      "|    n_updates            | 203        |\n",
      "|    policy_gradient_loss | -0.000297  |\n",
      "|    value_loss           | 12.5       |\n",
      "----------------------------------------\n",
      "-----------------------------------------\n",
      "| rollout/                |             |\n",
      "|    ep_len_mean          | 238         |\n",
      "|    ep_rew_mean          | 275         |\n",
      "| time/                   |             |\n",
      "|    fps                  | 649         |\n",
      "|    iterations           | 31          |\n",
      "|    time_elapsed         | 1563        |\n",
      "|    total_timesteps      | 1015808     |\n",
      "| train/                  |             |\n",
      "|    approx_kl            | 0.010344634 |\n",
      "|    clip_fraction        | 0.132       |\n",
      "|    clip_range           | 0.2         |\n",
      "|    entropy_loss         | -0.778      |\n",
      "|    explained_variance   | 0.909       |\n",
      "|    learning_rate        | 0.00207     |\n",
      "|    loss                 | 2.08        |\n",
      "|    n_updates            | 210         |\n",
      "|    policy_gradient_loss | -0.000661   |\n",
      "|    value_loss           | 22.5        |\n",
      "-----------------------------------------\n",
      "----------------------------------------\n",
      "| rollout/                |            |\n",
      "|    ep_len_mean          | 239        |\n",
      "|    ep_rew_mean          | 275        |\n",
      "| time/                   |            |\n",
      "|    fps                  | 651        |\n",
      "|    iterations           | 32         |\n",
      "|    time_elapsed         | 1608       |\n",
      "|    total_timesteps      | 1048576    |\n",
      "| train/                  |            |\n",
      "|    approx_kl            | 0.04203941 |\n",
      "|    clip_fraction        | 0.141      |\n",
      "|    clip_range           | 0.2        |\n",
      "|    entropy_loss         | -0.774     |\n",
      "|    explained_variance   | 0.965      |\n",
      "|    learning_rate        | 0.00207    |\n",
      "|    loss                 | 2.79       |\n",
      "|    n_updates            | 217        |\n",
      "|    policy_gradient_loss | 0.0018     |\n",
      "|    value_loss           | 9.73       |\n",
      "----------------------------------------\n",
      "-----------------------------------------\n",
      "| rollout/                |             |\n",
      "|    ep_len_mean          | 236         |\n",
      "|    ep_rew_mean          | 274         |\n",
      "| time/                   |             |\n",
      "|    fps                  | 655         |\n",
      "|    iterations           | 33          |\n",
      "|    time_elapsed         | 1649        |\n",
      "|    total_timesteps      | 1081344     |\n",
      "| train/                  |             |\n",
      "|    approx_kl            | 0.013234289 |\n",
      "|    clip_fraction        | 0.136       |\n",
      "|    clip_range           | 0.2         |\n",
      "|    entropy_loss         | -0.77       |\n",
      "|    explained_variance   | 0.953       |\n",
      "|    learning_rate        | 0.00207     |\n",
      "|    loss                 | 1.37        |\n",
      "|    n_updates            | 224         |\n",
      "|    policy_gradient_loss | -0.000289   |\n",
      "|    value_loss           | 19.2        |\n",
      "-----------------------------------------\n",
      "-----------------------------------------\n",
      "| rollout/                |             |\n",
      "|    ep_len_mean          | 232         |\n",
      "|    ep_rew_mean          | 253         |\n",
      "| time/                   |             |\n",
      "|    fps                  | 658         |\n",
      "|    iterations           | 34          |\n",
      "|    time_elapsed         | 1692        |\n",
      "|    total_timesteps      | 1114112     |\n",
      "| train/                  |             |\n",
      "|    approx_kl            | 0.009952003 |\n",
      "|    clip_fraction        | 0.12        |\n",
      "|    clip_range           | 0.2         |\n",
      "|    entropy_loss         | -0.727      |\n",
      "|    explained_variance   | 0.944       |\n",
      "|    learning_rate        | 0.00207     |\n",
      "|    loss                 | 2.29        |\n",
      "|    n_updates            | 231         |\n",
      "|    policy_gradient_loss | 0.00113     |\n",
      "|    value_loss           | 29.5        |\n",
      "-----------------------------------------\n",
      "-----------------------------------------\n",
      "| rollout/                |             |\n",
      "|    ep_len_mean          | 222         |\n",
      "|    ep_rew_mean          | 271         |\n",
      "| time/                   |             |\n",
      "|    fps                  | 660         |\n",
      "|    iterations           | 35          |\n",
      "|    time_elapsed         | 1735        |\n",
      "|    total_timesteps      | 1146880     |\n",
      "| train/                  |             |\n",
      "|    approx_kl            | 0.010500578 |\n",
      "|    clip_fraction        | 0.0811      |\n",
      "|    clip_range           | 0.2         |\n",
      "|    entropy_loss         | -0.692      |\n",
      "|    explained_variance   | 0.91        |\n",
      "|    learning_rate        | 0.00207     |\n",
      "|    loss                 | 14          |\n",
      "|    n_updates            | 238         |\n",
      "|    policy_gradient_loss | 0.00112     |\n",
      "|    value_loss           | 111         |\n",
      "-----------------------------------------\n",
      "-----------------------------------------\n",
      "| rollout/                |             |\n",
      "|    ep_len_mean          | 227         |\n",
      "|    ep_rew_mean          | 276         |\n",
      "| time/                   |             |\n",
      "|    fps                  | 660         |\n",
      "|    iterations           | 36          |\n",
      "|    time_elapsed         | 1786        |\n",
      "|    total_timesteps      | 1179648     |\n",
      "| train/                  |             |\n",
      "|    approx_kl            | 0.009737786 |\n",
      "|    clip_fraction        | 0.113       |\n",
      "|    clip_range           | 0.2         |\n",
      "|    entropy_loss         | -0.671      |\n",
      "|    explained_variance   | 0.898       |\n",
      "|    learning_rate        | 0.00207     |\n",
      "|    loss                 | 6.87        |\n",
      "|    n_updates            | 245         |\n",
      "|    policy_gradient_loss | 0.00107     |\n",
      "|    value_loss           | 111         |\n",
      "-----------------------------------------\n",
      "-----------------------------------------\n",
      "| rollout/                |             |\n",
      "|    ep_len_mean          | 235         |\n",
      "|    ep_rew_mean          | 257         |\n",
      "| time/                   |             |\n",
      "|    fps                  | 658         |\n",
      "|    iterations           | 37          |\n",
      "|    time_elapsed         | 1842        |\n",
      "|    total_timesteps      | 1212416     |\n",
      "| train/                  |             |\n",
      "|    approx_kl            | 0.012131149 |\n",
      "|    clip_fraction        | 0.114       |\n",
      "|    clip_range           | 0.2         |\n",
      "|    entropy_loss         | -0.668      |\n",
      "|    explained_variance   | 0.969       |\n",
      "|    learning_rate        | 0.00207     |\n",
      "|    loss                 | 4.62        |\n",
      "|    n_updates            | 252         |\n",
      "|    policy_gradient_loss | 0.00197     |\n",
      "|    value_loss           | 47.4        |\n",
      "-----------------------------------------\n",
      "-----------------------------------------\n",
      "| rollout/                |             |\n",
      "|    ep_len_mean          | 235         |\n",
      "|    ep_rew_mean          | 271         |\n",
      "| time/                   |             |\n",
      "|    fps                  | 654         |\n",
      "|    iterations           | 38          |\n",
      "|    time_elapsed         | 1902        |\n",
      "|    total_timesteps      | 1245184     |\n",
      "| train/                  |             |\n",
      "|    approx_kl            | 0.010594895 |\n",
      "|    clip_fraction        | 0.106       |\n",
      "|    clip_range           | 0.2         |\n",
      "|    entropy_loss         | -0.65       |\n",
      "|    explained_variance   | 0.968       |\n",
      "|    learning_rate        | 0.00207     |\n",
      "|    loss                 | 26.1        |\n",
      "|    n_updates            | 259         |\n",
      "|    policy_gradient_loss | 0.00162     |\n",
      "|    value_loss           | 60.8        |\n",
      "-----------------------------------------\n",
      "-----------------------------------------\n",
      "| rollout/                |             |\n",
      "|    ep_len_mean          | 223         |\n",
      "|    ep_rew_mean          | 275         |\n",
      "| time/                   |             |\n",
      "|    fps                  | 657         |\n",
      "|    iterations           | 39          |\n",
      "|    time_elapsed         | 1944        |\n",
      "|    total_timesteps      | 1277952     |\n",
      "| train/                  |             |\n",
      "|    approx_kl            | 0.013088359 |\n",
      "|    clip_fraction        | 0.107       |\n",
      "|    clip_range           | 0.2         |\n",
      "|    entropy_loss         | -0.632      |\n",
      "|    explained_variance   | 0.983       |\n",
      "|    learning_rate        | 0.00207     |\n",
      "|    loss                 | 6.82        |\n",
      "|    n_updates            | 266         |\n",
      "|    policy_gradient_loss | 0.00303     |\n",
      "|    value_loss           | 38          |\n",
      "-----------------------------------------\n",
      "-----------------------------------------\n",
      "| rollout/                |             |\n",
      "|    ep_len_mean          | 220         |\n",
      "|    ep_rew_mean          | 272         |\n",
      "| time/                   |             |\n",
      "|    fps                  | 658         |\n",
      "|    iterations           | 40          |\n",
      "|    time_elapsed         | 1989        |\n",
      "|    total_timesteps      | 1310720     |\n",
      "| train/                  |             |\n",
      "|    approx_kl            | 0.012409678 |\n",
      "|    clip_fraction        | 0.116       |\n",
      "|    clip_range           | 0.2         |\n",
      "|    entropy_loss         | -0.621      |\n",
      "|    explained_variance   | 0.983       |\n",
      "|    learning_rate        | 0.00207     |\n",
      "|    loss                 | 4.25        |\n",
      "|    n_updates            | 273         |\n",
      "|    policy_gradient_loss | 0.00196     |\n",
      "|    value_loss           | 14.8        |\n",
      "-----------------------------------------\n",
      "-----------------------------------------\n",
      "| rollout/                |             |\n",
      "|    ep_len_mean          | 233         |\n",
      "|    ep_rew_mean          | 266         |\n",
      "| time/                   |             |\n",
      "|    fps                  | 661         |\n",
      "|    iterations           | 41          |\n",
      "|    time_elapsed         | 2032        |\n",
      "|    total_timesteps      | 1343488     |\n",
      "| train/                  |             |\n",
      "|    approx_kl            | 0.010030532 |\n",
      "|    clip_fraction        | 0.0973      |\n",
      "|    clip_range           | 0.2         |\n",
      "|    entropy_loss         | -0.608      |\n",
      "|    explained_variance   | 0.981       |\n",
      "|    learning_rate        | 0.00207     |\n",
      "|    loss                 | 5.43        |\n",
      "|    n_updates            | 280         |\n",
      "|    policy_gradient_loss | 0.000412    |\n",
      "|    value_loss           | 21.7        |\n",
      "-----------------------------------------\n",
      "-----------------------------------------\n",
      "| rollout/                |             |\n",
      "|    ep_len_mean          | 228         |\n",
      "|    ep_rew_mean          | 281         |\n",
      "| time/                   |             |\n",
      "|    fps                  | 662         |\n",
      "|    iterations           | 42          |\n",
      "|    time_elapsed         | 2078        |\n",
      "|    total_timesteps      | 1376256     |\n",
      "| train/                  |             |\n",
      "|    approx_kl            | 0.012018378 |\n",
      "|    clip_fraction        | 0.108       |\n",
      "|    clip_range           | 0.2         |\n",
      "|    entropy_loss         | -0.598      |\n",
      "|    explained_variance   | 0.964       |\n",
      "|    learning_rate        | 0.00207     |\n",
      "|    loss                 | 4.26        |\n",
      "|    n_updates            | 287         |\n",
      "|    policy_gradient_loss | 0.000945    |\n",
      "|    value_loss           | 60.3        |\n",
      "-----------------------------------------\n",
      "-----------------------------------------\n",
      "| rollout/                |             |\n",
      "|    ep_len_mean          | 206         |\n",
      "|    ep_rew_mean          | 280         |\n",
      "| time/                   |             |\n",
      "|    fps                  | 664         |\n",
      "|    iterations           | 43          |\n",
      "|    time_elapsed         | 2120        |\n",
      "|    total_timesteps      | 1409024     |\n",
      "| train/                  |             |\n",
      "|    approx_kl            | 0.009487843 |\n",
      "|    clip_fraction        | 0.126       |\n",
      "|    clip_range           | 0.2         |\n",
      "|    entropy_loss         | -0.591      |\n",
      "|    explained_variance   | 0.987       |\n",
      "|    learning_rate        | 0.00207     |\n",
      "|    loss                 | 2.58        |\n",
      "|    n_updates            | 294         |\n",
      "|    policy_gradient_loss | 0.000908    |\n",
      "|    value_loss           | 19.7        |\n",
      "-----------------------------------------\n",
      "----------------------------------------\n",
      "| rollout/                |            |\n",
      "|    ep_len_mean          | 201        |\n",
      "|    ep_rew_mean          | 285        |\n",
      "| time/                   |            |\n",
      "|    fps                  | 665        |\n",
      "|    iterations           | 44         |\n",
      "|    time_elapsed         | 2165       |\n",
      "|    total_timesteps      | 1441792    |\n",
      "| train/                  |            |\n",
      "|    approx_kl            | 0.01553754 |\n",
      "|    clip_fraction        | 0.114      |\n",
      "|    clip_range           | 0.2        |\n",
      "|    entropy_loss         | -0.603     |\n",
      "|    explained_variance   | 0.98       |\n",
      "|    learning_rate        | 0.00207    |\n",
      "|    loss                 | 9.72       |\n",
      "|    n_updates            | 301        |\n",
      "|    policy_gradient_loss | 0.00186    |\n",
      "|    value_loss           | 31.3       |\n",
      "----------------------------------------\n",
      "-----------------------------------------\n",
      "| rollout/                |             |\n",
      "|    ep_len_mean          | 236         |\n",
      "|    ep_rew_mean          | 266         |\n",
      "| time/                   |             |\n",
      "|    fps                  | 665         |\n",
      "|    iterations           | 45          |\n",
      "|    time_elapsed         | 2214        |\n",
      "|    total_timesteps      | 1474560     |\n",
      "| train/                  |             |\n",
      "|    approx_kl            | 0.010744963 |\n",
      "|    clip_fraction        | 0.112       |\n",
      "|    clip_range           | 0.2         |\n",
      "|    entropy_loss         | -0.577      |\n",
      "|    explained_variance   | 0.989       |\n",
      "|    learning_rate        | 0.00207     |\n",
      "|    loss                 | 4.61        |\n",
      "|    n_updates            | 308         |\n",
      "|    policy_gradient_loss | 0.00147     |\n",
      "|    value_loss           | 13.3        |\n",
      "-----------------------------------------\n",
      "-----------------------------------------\n",
      "| rollout/                |             |\n",
      "|    ep_len_mean          | 204         |\n",
      "|    ep_rew_mean          | 277         |\n",
      "| time/                   |             |\n",
      "|    fps                  | 667         |\n",
      "|    iterations           | 46          |\n",
      "|    time_elapsed         | 2259        |\n",
      "|    total_timesteps      | 1507328     |\n",
      "| train/                  |             |\n",
      "|    approx_kl            | 0.011158944 |\n",
      "|    clip_fraction        | 0.101       |\n",
      "|    clip_range           | 0.2         |\n",
      "|    entropy_loss         | -0.582      |\n",
      "|    explained_variance   | 0.988       |\n",
      "|    learning_rate        | 0.00207     |\n",
      "|    loss                 | 20.3        |\n",
      "|    n_updates            | 315         |\n",
      "|    policy_gradient_loss | -0.00184    |\n",
      "|    value_loss           | 28.5        |\n",
      "-----------------------------------------\n",
      "-----------------------------------------\n",
      "| rollout/                |             |\n",
      "|    ep_len_mean          | 217         |\n",
      "|    ep_rew_mean          | 267         |\n",
      "| time/                   |             |\n",
      "|    fps                  | 669         |\n",
      "|    iterations           | 47          |\n",
      "|    time_elapsed         | 2302        |\n",
      "|    total_timesteps      | 1540096     |\n",
      "| train/                  |             |\n",
      "|    approx_kl            | 0.017688924 |\n",
      "|    clip_fraction        | 0.123       |\n",
      "|    clip_range           | 0.2         |\n",
      "|    entropy_loss         | -0.556      |\n",
      "|    explained_variance   | 0.989       |\n",
      "|    learning_rate        | 0.00207     |\n",
      "|    loss                 | 4.82        |\n",
      "|    n_updates            | 322         |\n",
      "|    policy_gradient_loss | 0.00272     |\n",
      "|    value_loss           | 20.6        |\n",
      "-----------------------------------------\n",
      "-----------------------------------------\n",
      "| rollout/                |             |\n",
      "|    ep_len_mean          | 220         |\n",
      "|    ep_rew_mean          | 280         |\n",
      "| time/                   |             |\n",
      "|    fps                  | 672         |\n",
      "|    iterations           | 48          |\n",
      "|    time_elapsed         | 2339        |\n",
      "|    total_timesteps      | 1572864     |\n",
      "| train/                  |             |\n",
      "|    approx_kl            | 0.010203032 |\n",
      "|    clip_fraction        | 0.119       |\n",
      "|    clip_range           | 0.2         |\n",
      "|    entropy_loss         | -0.566      |\n",
      "|    explained_variance   | 0.981       |\n",
      "|    learning_rate        | 0.00207     |\n",
      "|    loss                 | 25.9        |\n",
      "|    n_updates            | 329         |\n",
      "|    policy_gradient_loss | 0.00197     |\n",
      "|    value_loss           | 48          |\n",
      "-----------------------------------------\n",
      "----------------------------------------\n",
      "| rollout/                |            |\n",
      "|    ep_len_mean          | 208        |\n",
      "|    ep_rew_mean          | 278        |\n",
      "| time/                   |            |\n",
      "|    fps                  | 673        |\n",
      "|    iterations           | 49         |\n",
      "|    time_elapsed         | 2384       |\n",
      "|    total_timesteps      | 1605632    |\n",
      "| train/                  |            |\n",
      "|    approx_kl            | 0.01118847 |\n",
      "|    clip_fraction        | 0.121      |\n",
      "|    clip_range           | 0.2        |\n",
      "|    entropy_loss         | -0.549     |\n",
      "|    explained_variance   | 0.993      |\n",
      "|    learning_rate        | 0.00207    |\n",
      "|    loss                 | 7.32       |\n",
      "|    n_updates            | 336        |\n",
      "|    policy_gradient_loss | 0.00206    |\n",
      "|    value_loss           | 12.6       |\n",
      "----------------------------------------\n",
      "-----------------------------------------\n",
      "| rollout/                |             |\n",
      "|    ep_len_mean          | 192         |\n",
      "|    ep_rew_mean          | 281         |\n",
      "| time/                   |             |\n",
      "|    fps                  | 675         |\n",
      "|    iterations           | 50          |\n",
      "|    time_elapsed         | 2426        |\n",
      "|    total_timesteps      | 1638400     |\n",
      "| train/                  |             |\n",
      "|    approx_kl            | 0.012014737 |\n",
      "|    clip_fraction        | 0.13        |\n",
      "|    clip_range           | 0.2         |\n",
      "|    entropy_loss         | -0.552      |\n",
      "|    explained_variance   | 0.985       |\n",
      "|    learning_rate        | 0.00207     |\n",
      "|    loss                 | 2.29        |\n",
      "|    n_updates            | 343         |\n",
      "|    policy_gradient_loss | 0.00138     |\n",
      "|    value_loss           | 23.3        |\n",
      "-----------------------------------------\n",
      "-----------------------------------------\n",
      "| rollout/                |             |\n",
      "|    ep_len_mean          | 194         |\n",
      "|    ep_rew_mean          | 282         |\n",
      "| time/                   |             |\n",
      "|    fps                  | 676         |\n",
      "|    iterations           | 51          |\n",
      "|    time_elapsed         | 2469        |\n",
      "|    total_timesteps      | 1671168     |\n",
      "| train/                  |             |\n",
      "|    approx_kl            | 0.013633377 |\n",
      "|    clip_fraction        | 0.114       |\n",
      "|    clip_range           | 0.2         |\n",
      "|    entropy_loss         | -0.536      |\n",
      "|    explained_variance   | 0.99        |\n",
      "|    learning_rate        | 0.00207     |\n",
      "|    loss                 | 2.71        |\n",
      "|    n_updates            | 350         |\n",
      "|    policy_gradient_loss | 0.00214     |\n",
      "|    value_loss           | 8.46        |\n",
      "-----------------------------------------\n",
      "-----------------------------------------\n",
      "| rollout/                |             |\n",
      "|    ep_len_mean          | 203         |\n",
      "|    ep_rew_mean          | 280         |\n",
      "| time/                   |             |\n",
      "|    fps                  | 677         |\n",
      "|    iterations           | 52          |\n",
      "|    time_elapsed         | 2515        |\n",
      "|    total_timesteps      | 1703936     |\n",
      "| train/                  |             |\n",
      "|    approx_kl            | 0.013485536 |\n",
      "|    clip_fraction        | 0.129       |\n",
      "|    clip_range           | 0.2         |\n",
      "|    entropy_loss         | -0.534      |\n",
      "|    explained_variance   | 0.991       |\n",
      "|    learning_rate        | 0.00207     |\n",
      "|    loss                 | 1.84        |\n",
      "|    n_updates            | 357         |\n",
      "|    policy_gradient_loss | 0.00174     |\n",
      "|    value_loss           | 17.5        |\n",
      "-----------------------------------------\n",
      "-----------------------------------------\n",
      "| rollout/                |             |\n",
      "|    ep_len_mean          | 221         |\n",
      "|    ep_rew_mean          | 274         |\n",
      "| time/                   |             |\n",
      "|    fps                  | 679         |\n",
      "|    iterations           | 53          |\n",
      "|    time_elapsed         | 2556        |\n",
      "|    total_timesteps      | 1736704     |\n",
      "| train/                  |             |\n",
      "|    approx_kl            | 0.011108752 |\n",
      "|    clip_fraction        | 0.105       |\n",
      "|    clip_range           | 0.2         |\n",
      "|    entropy_loss         | -0.522      |\n",
      "|    explained_variance   | 0.97        |\n",
      "|    learning_rate        | 0.00207     |\n",
      "|    loss                 | 2.96        |\n",
      "|    n_updates            | 364         |\n",
      "|    policy_gradient_loss | 0.0023      |\n",
      "|    value_loss           | 21          |\n",
      "-----------------------------------------\n",
      "-----------------------------------------\n",
      "| rollout/                |             |\n",
      "|    ep_len_mean          | 208         |\n",
      "|    ep_rew_mean          | 280         |\n",
      "| time/                   |             |\n",
      "|    fps                  | 679         |\n",
      "|    iterations           | 54          |\n",
      "|    time_elapsed         | 2604        |\n",
      "|    total_timesteps      | 1769472     |\n",
      "| train/                  |             |\n",
      "|    approx_kl            | 0.012139062 |\n",
      "|    clip_fraction        | 0.113       |\n",
      "|    clip_range           | 0.2         |\n",
      "|    entropy_loss         | -0.492      |\n",
      "|    explained_variance   | 0.98        |\n",
      "|    learning_rate        | 0.00207     |\n",
      "|    loss                 | 6.1         |\n",
      "|    n_updates            | 371         |\n",
      "|    policy_gradient_loss | 0.00105     |\n",
      "|    value_loss           | 47.3        |\n",
      "-----------------------------------------\n",
      "-----------------------------------------\n",
      "| rollout/                |             |\n",
      "|    ep_len_mean          | 193         |\n",
      "|    ep_rew_mean          | 283         |\n",
      "| time/                   |             |\n",
      "|    fps                  | 680         |\n",
      "|    iterations           | 55          |\n",
      "|    time_elapsed         | 2649        |\n",
      "|    total_timesteps      | 1802240     |\n",
      "| train/                  |             |\n",
      "|    approx_kl            | 0.013119918 |\n",
      "|    clip_fraction        | 0.125       |\n",
      "|    clip_range           | 0.2         |\n",
      "|    entropy_loss         | -0.474      |\n",
      "|    explained_variance   | 0.985       |\n",
      "|    learning_rate        | 0.00207     |\n",
      "|    loss                 | 2.51        |\n",
      "|    n_updates            | 378         |\n",
      "|    policy_gradient_loss | 0.00257     |\n",
      "|    value_loss           | 32.9        |\n",
      "-----------------------------------------\n",
      "------------------------------------------\n",
      "| rollout/                |              |\n",
      "|    ep_len_mean          | 192          |\n",
      "|    ep_rew_mean          | 284          |\n",
      "| time/                   |              |\n",
      "|    fps                  | 680          |\n",
      "|    iterations           | 56           |\n",
      "|    time_elapsed         | 2696         |\n",
      "|    total_timesteps      | 1835008      |\n",
      "| train/                  |              |\n",
      "|    approx_kl            | 0.0128458105 |\n",
      "|    clip_fraction        | 0.124        |\n",
      "|    clip_range           | 0.2          |\n",
      "|    entropy_loss         | -0.484       |\n",
      "|    explained_variance   | 0.974        |\n",
      "|    learning_rate        | 0.00207      |\n",
      "|    loss                 | 1.21         |\n",
      "|    n_updates            | 385          |\n",
      "|    policy_gradient_loss | 0.00296      |\n",
      "|    value_loss           | 53.5         |\n",
      "------------------------------------------\n",
      "-----------------------------------------\n",
      "| rollout/                |             |\n",
      "|    ep_len_mean          | 188         |\n",
      "|    ep_rew_mean          | 281         |\n",
      "| time/                   |             |\n",
      "|    fps                  | 682         |\n",
      "|    iterations           | 57          |\n",
      "|    time_elapsed         | 2734        |\n",
      "|    total_timesteps      | 1867776     |\n",
      "| train/                  |             |\n",
      "|    approx_kl            | 0.011520837 |\n",
      "|    clip_fraction        | 0.114       |\n",
      "|    clip_range           | 0.2         |\n",
      "|    entropy_loss         | -0.482      |\n",
      "|    explained_variance   | 0.987       |\n",
      "|    learning_rate        | 0.00207     |\n",
      "|    loss                 | 1.3         |\n",
      "|    n_updates            | 392         |\n",
      "|    policy_gradient_loss | 0.00292     |\n",
      "|    value_loss           | 12.6        |\n",
      "-----------------------------------------\n",
      "-----------------------------------------\n",
      "| rollout/                |             |\n",
      "|    ep_len_mean          | 391         |\n",
      "|    ep_rew_mean          | 252         |\n",
      "| time/                   |             |\n",
      "|    fps                  | 680         |\n",
      "|    iterations           | 58          |\n",
      "|    time_elapsed         | 2791        |\n",
      "|    total_timesteps      | 1900544     |\n",
      "| train/                  |             |\n",
      "|    approx_kl            | 0.020712078 |\n",
      "|    clip_fraction        | 0.124       |\n",
      "|    clip_range           | 0.2         |\n",
      "|    entropy_loss         | -0.516      |\n",
      "|    explained_variance   | 0.992       |\n",
      "|    learning_rate        | 0.00207     |\n",
      "|    loss                 | 1.94        |\n",
      "|    n_updates            | 399         |\n",
      "|    policy_gradient_loss | -0.00171    |\n",
      "|    value_loss           | 12.1        |\n",
      "-----------------------------------------\n",
      "----------------------------------------\n",
      "| rollout/                |            |\n",
      "|    ep_len_mean          | 617        |\n",
      "|    ep_rew_mean          | 226        |\n",
      "| time/                   |            |\n",
      "|    fps                  | 679        |\n",
      "|    iterations           | 59         |\n",
      "|    time_elapsed         | 2847       |\n",
      "|    total_timesteps      | 1933312    |\n",
      "| train/                  |            |\n",
      "|    approx_kl            | 0.01390313 |\n",
      "|    clip_fraction        | 0.109      |\n",
      "|    clip_range           | 0.2        |\n",
      "|    entropy_loss         | -0.452     |\n",
      "|    explained_variance   | 0.982      |\n",
      "|    learning_rate        | 0.00207    |\n",
      "|    loss                 | 2.6        |\n",
      "|    n_updates            | 406        |\n",
      "|    policy_gradient_loss | 0.00114    |\n",
      "|    value_loss           | 11.8       |\n",
      "----------------------------------------\n",
      "-----------------------------------------\n",
      "| rollout/                |             |\n",
      "|    ep_len_mean          | 612         |\n",
      "|    ep_rew_mean          | 234         |\n",
      "| time/                   |             |\n",
      "|    fps                  | 679         |\n",
      "|    iterations           | 60          |\n",
      "|    time_elapsed         | 2895        |\n",
      "|    total_timesteps      | 1966080     |\n",
      "| train/                  |             |\n",
      "|    approx_kl            | 0.009266312 |\n",
      "|    clip_fraction        | 0.104       |\n",
      "|    clip_range           | 0.2         |\n",
      "|    entropy_loss         | -0.422      |\n",
      "|    explained_variance   | 0.994       |\n",
      "|    learning_rate        | 0.00207     |\n",
      "|    loss                 | 0.571       |\n",
      "|    n_updates            | 413         |\n",
      "|    policy_gradient_loss | -0.0024     |\n",
      "|    value_loss           | 4.75        |\n",
      "-----------------------------------------\n"
     ]
    }
   ],
   "source": [
    "model, score = run_training(study.best_trial.params, verbose=1, save_model=True)"
   ]
  }
 ],
 "metadata": {
  "kernelspec": {
   "display_name": "Python 3.10.4 ('rl')",
   "language": "python",
   "name": "python3"
  },
  "language_info": {
   "codemirror_mode": {
    "name": "ipython",
    "version": 3
   },
   "file_extension": ".py",
   "mimetype": "text/x-python",
   "name": "python",
   "nbconvert_exporter": "python",
   "pygments_lexer": "ipython3",
   "version": "3.10.4"
  },
  "orig_nbformat": 4,
  "vscode": {
   "interpreter": {
    "hash": "4a38f981285e50b6da3568a765228c349cbf3b5ca72f18e65238053f0c250d27"
   }
  }
 },
 "nbformat": 4,
 "nbformat_minor": 2
}
